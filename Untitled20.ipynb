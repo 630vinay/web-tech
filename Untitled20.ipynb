{
  "nbformat": 4,
  "nbformat_minor": 0,
  "metadata": {
    "colab": {
      "provenance": []
    },
    "kernelspec": {
      "name": "python3",
      "display_name": "Python 3"
    },
    "language_info": {
      "name": "python"
    }
  },
  "cells": [
    {
      "cell_type": "code",
      "execution_count": 4,
      "metadata": {
        "colab": {
          "base_uri": "https://localhost:8080/",
          "height": 106
        },
        "id": "KmY3P54Fro0j",
        "outputId": "0b5e13ed-64b9-40ed-f3cd-7f8806be6dc9"
      },
      "outputs": [
        {
          "output_type": "error",
          "ename": "IndentationError",
          "evalue": "unindent does not match any outer indentation level (<tokenize>, line 11)",
          "traceback": [
            "\u001b[0;36m  File \u001b[0;32m\"<tokenize>\"\u001b[0;36m, line \u001b[0;32m11\u001b[0m\n\u001b[0;31m    <ul>\u001b[0m\n\u001b[0m    ^\u001b[0m\n\u001b[0;31mIndentationError\u001b[0m\u001b[0;31m:\u001b[0m unindent does not match any outer indentation level\n"
          ]
        }
      ],
      "source": [
        "<!DOCTYPE html>\n",
        "<html>\n",
        "  <script>\n",
        "    src =\n",
        "      \"https://ajax.googleapis.com/ajax/libs/angularjs/1.8.2/angular.min.js\";\n",
        "  </script>\n",
        "  <body bgcolor=\"yellow\">\n",
        "    <font  color=\"blue\">\n",
        "    <div ng-app=\"MyApp\" ng-controller=\"MyCtrl\" align=\"center\">\n",
        "        <u><h1 align=\"center\">REGISTRATION FORM</h1></u>\n",
        "      <ul>\n",
        "      Name : <input type=\"textbox\" ng-model=\"name\"><br /><br />\n",
        "      Age : <input type=\"textbox\" /><br /><br />\n",
        "      Email : <input type=\"email\" /><br /><br />\n",
        "      Password: <input type=\"password\" /><br /><br />\n",
        "      </ul>\n",
        "      <button ng-click=\"submit()\">Submit</button>\n",
        "    </div>\n",
        "    <script>\n",
        "      var app = angular.module(\"MyApp\", []);\n",
        "      app.controller(\"MyCtrl\", function ($scope) {\n",
        "        $scope.name =\"\";\n",
        "        $scope.submit = function() {\n",
        "            alert(\"Registration Successful\");\n",
        "            }\n",
        "      });\n",
        "    </script>\n",
        "  </body>\n",
        "</html>"
      ]
    }
  ]
}